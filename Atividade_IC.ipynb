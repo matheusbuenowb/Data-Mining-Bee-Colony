{
  "cells": [
    {
      "cell_type": "markdown",
      "metadata": {
        "id": "view-in-github",
        "colab_type": "text"
      },
      "source": [
        "<a href=\"https://colab.research.google.com/github/matheusbuenowb/Data-Mining-Bee-Colony/blob/main/Atividade_IC.ipynb\" target=\"_parent\"><img src=\"https://colab.research.google.com/assets/colab-badge.svg\" alt=\"Open In Colab\"/></a>"
      ]
    },
    {
      "cell_type": "markdown",
      "metadata": {
        "id": "wXfT-jvHSA4I"
      },
      "source": [
        "- Bees are essential to the environmental structure of our world, as well as sustaining humanity. Not only are they part of the food chain, they also pollinate as both specialist and generalists. 1/3 of our food source depends on bee pollination. Thus, humans must take more actions to protect these vital insects.\n",
        "- BeeAudio Dataset is an initiative to encourage computational means of addressing bee population decline, such as through creating machine learning algorithms to remotely and instantly detect the health status of the hive via sound data. This is the largest single dataset of bee audio, alongside multi-dimensional data, and it was all collected with a custom IoT device combining an ESP32 Wi-Fi module, INMP441 microphone module, and a BME280 temperature/humidity sensor.\n",
        "- All data is original from European Honey Bee hives in California, and it is split in 60 second chunks. There are 7100 samples in total.\n",
        "\n",
        "link: https://www.kaggle.com/datasets/annajyang/beehive-sounds?select=all_data_updated.csv"
      ]
    },
    {
      "cell_type": "markdown",
      "metadata": {
        "id": "OSO-kwUfsDMl"
      },
      "source": [
        "#Importação da base de dados\n"
      ]
    },
    {
      "cell_type": "code",
      "execution_count": 1,
      "metadata": {
        "id": "n7DFQd8SW1V1"
      },
      "outputs": [],
      "source": [
        "import pandas as pd\n",
        "\n",
        "df = pd.read_csv(\"all_data_updated_classifier.csv\")"
      ]
    },
    {
      "cell_type": "code",
      "execution_count": 2,
      "metadata": {
        "colab": {
          "base_uri": "https://localhost:8080/",
          "height": 805
        },
        "id": "_i5uWd0gDXyE",
        "outputId": "6acc0b92-e4e4-4983-dcf1-7a344a8b229f"
      },
      "outputs": [
        {
          "output_type": "execute_result",
          "data": {
            "text/plain": [
              "device              1275\n",
              "hive number         1275\n",
              "date                1275\n",
              "hive temp           1275\n",
              "hive humidity       1275\n",
              "hive pressure       1275\n",
              "weather temp        1275\n",
              "weather humidity    1275\n",
              "weather pressure    1275\n",
              "wind speed          1275\n",
              "gust speed          1275\n",
              "weatherID           1275\n",
              "cloud coverage      1275\n",
              "rain                1275\n",
              "lat                 1275\n",
              "long                1275\n",
              "file name           1275\n",
              "queen presence      1275\n",
              "queen acceptance    1275\n",
              "frames              1275\n",
              "target              1275\n",
              "time                1275\n",
              "queen status        1275\n",
              "dtype: int64"
            ],
            "text/html": [
              "<div>\n",
              "<style scoped>\n",
              "    .dataframe tbody tr th:only-of-type {\n",
              "        vertical-align: middle;\n",
              "    }\n",
              "\n",
              "    .dataframe tbody tr th {\n",
              "        vertical-align: top;\n",
              "    }\n",
              "\n",
              "    .dataframe thead th {\n",
              "        text-align: right;\n",
              "    }\n",
              "</style>\n",
              "<table border=\"1\" class=\"dataframe\">\n",
              "  <thead>\n",
              "    <tr style=\"text-align: right;\">\n",
              "      <th></th>\n",
              "      <th>0</th>\n",
              "    </tr>\n",
              "  </thead>\n",
              "  <tbody>\n",
              "    <tr>\n",
              "      <th>device</th>\n",
              "      <td>1275</td>\n",
              "    </tr>\n",
              "    <tr>\n",
              "      <th>hive number</th>\n",
              "      <td>1275</td>\n",
              "    </tr>\n",
              "    <tr>\n",
              "      <th>date</th>\n",
              "      <td>1275</td>\n",
              "    </tr>\n",
              "    <tr>\n",
              "      <th>hive temp</th>\n",
              "      <td>1275</td>\n",
              "    </tr>\n",
              "    <tr>\n",
              "      <th>hive humidity</th>\n",
              "      <td>1275</td>\n",
              "    </tr>\n",
              "    <tr>\n",
              "      <th>hive pressure</th>\n",
              "      <td>1275</td>\n",
              "    </tr>\n",
              "    <tr>\n",
              "      <th>weather temp</th>\n",
              "      <td>1275</td>\n",
              "    </tr>\n",
              "    <tr>\n",
              "      <th>weather humidity</th>\n",
              "      <td>1275</td>\n",
              "    </tr>\n",
              "    <tr>\n",
              "      <th>weather pressure</th>\n",
              "      <td>1275</td>\n",
              "    </tr>\n",
              "    <tr>\n",
              "      <th>wind speed</th>\n",
              "      <td>1275</td>\n",
              "    </tr>\n",
              "    <tr>\n",
              "      <th>gust speed</th>\n",
              "      <td>1275</td>\n",
              "    </tr>\n",
              "    <tr>\n",
              "      <th>weatherID</th>\n",
              "      <td>1275</td>\n",
              "    </tr>\n",
              "    <tr>\n",
              "      <th>cloud coverage</th>\n",
              "      <td>1275</td>\n",
              "    </tr>\n",
              "    <tr>\n",
              "      <th>rain</th>\n",
              "      <td>1275</td>\n",
              "    </tr>\n",
              "    <tr>\n",
              "      <th>lat</th>\n",
              "      <td>1275</td>\n",
              "    </tr>\n",
              "    <tr>\n",
              "      <th>long</th>\n",
              "      <td>1275</td>\n",
              "    </tr>\n",
              "    <tr>\n",
              "      <th>file name</th>\n",
              "      <td>1275</td>\n",
              "    </tr>\n",
              "    <tr>\n",
              "      <th>queen presence</th>\n",
              "      <td>1275</td>\n",
              "    </tr>\n",
              "    <tr>\n",
              "      <th>queen acceptance</th>\n",
              "      <td>1275</td>\n",
              "    </tr>\n",
              "    <tr>\n",
              "      <th>frames</th>\n",
              "      <td>1275</td>\n",
              "    </tr>\n",
              "    <tr>\n",
              "      <th>target</th>\n",
              "      <td>1275</td>\n",
              "    </tr>\n",
              "    <tr>\n",
              "      <th>time</th>\n",
              "      <td>1275</td>\n",
              "    </tr>\n",
              "    <tr>\n",
              "      <th>queen status</th>\n",
              "      <td>1275</td>\n",
              "    </tr>\n",
              "  </tbody>\n",
              "</table>\n",
              "</div><br><label><b>dtype:</b> int64</label>"
            ]
          },
          "metadata": {},
          "execution_count": 2
        }
      ],
      "source": [
        "df.count()"
      ]
    },
    {
      "cell_type": "markdown",
      "metadata": {
        "id": "Cq5VDwN7gSwE"
      },
      "source": [
        "# Seleção de features, normalização de dados e divisão de treino x teste\n"
      ]
    },
    {
      "cell_type": "code",
      "execution_count": 3,
      "metadata": {
        "id": "B0IDk4C4g18p"
      },
      "outputs": [],
      "source": [
        "import pandas as pd\n",
        "import matplotlib.pyplot as plt\n",
        "from sklearn.model_selection import train_test_split, cross_val_score\n",
        "from sklearn.metrics import accuracy_score\n",
        "import joblib  # Para salvar e carregar o modelo\n",
        "\n",
        "# Tratando valores ausentes\n",
        "#df = df.dropna()  # Remove linhas com valores nulos (ou use fillna para preencher)\n",
        "\n",
        "#Selecionando as features (variáveis preditoras)\n",
        "features = ['hive temp', 'hive humidity', 'hive pressure', 'weather temp',\n",
        "            'weather humidity', 'weather pressure']\n",
        "X = df[features]\n",
        "y = df['queen presence']  #Rótulo a ser previsto\n",
        "\n",
        "\n",
        "#Garante que os dados são numéricos\n",
        "X = X.apply(pd.to_numeric, errors='coerce')\n",
        "y = pd.to_numeric(y, errors='coerce')\n",
        "\n",
        "#Garante que y contém apenas valores binários (1 ou 0)\n",
        "y = y.apply(lambda x: 1 if x > 0 else 0)\n",
        "\n",
        "#Divide os dados em treino e teste\n",
        "X_train, X_test, y_train, y_test = train_test_split(X, y, test_size=0.2, random_state=42)\n",
        "\n",
        "\n",
        "def plotValues(x, name, estimators_values, accuracy_scores, scale):\n",
        "  plt.figure(figsize=(10, 5))\n",
        "  plt.plot(estimators_values, accuracy_scores, marker='o', linestyle='dashed', color='b')\n",
        "  plt.xlabel(f'{x}')\n",
        "  plt.ylabel('Acurácia Média')\n",
        "  plt.title(f'{name}')\n",
        "  plt.xticks(estimators_values)\n",
        "  plt.xscale(f'{scale}')  # Escala logarítmica para melhor visualização\n",
        "  plt.grid()\n",
        "  plt.show()\n",
        "\n",
        "def trainModel(model, nameSave):\n",
        "  #Treina o modelo com todos os dados de treino\n",
        "  model.fit(X_train, y_train)\n",
        "\n",
        "  #Faz previsões no conjunto de teste\n",
        "  y_pred = model.predict(X_test)\n",
        "\n",
        "  #Avalia o desempenho do modelo\n",
        "  accuracy = accuracy_score(y_test, y_pred)\n",
        "  print(f\"Acurácia do modelo no conjunto de teste: {accuracy:.3f}\")\n",
        "\n",
        "  #Salva o modelo treinado com o joblib\n",
        "  joblib.dump(model, f'{nameSave}')\n",
        "  print(f\"Modelo salvo em '{nameSave}'\")\n",
        "\n",
        "def newDataPrediction(modelName, input_df):\n",
        "\n",
        "  loaded_model = joblib.load(modelName)\n",
        "\n",
        "  # Faz uma cópia do DataFrame original para preservar os dados\n",
        "  df_copy = input_df.copy()\n",
        "\n",
        "  # Define as features que o modelo espera\n",
        "  features = ['hive temp', 'hive humidity', 'hive pressure', 'weather temp',\n",
        "            'weather humidity', 'weather pressure']\n",
        "\n",
        "  # Garante que só essas colunas sejam usadas na predição\n",
        "  X_new = df_copy[features]\n",
        "\n",
        "  # Faz as previsões\n",
        "  predictionsQueenPresence = loaded_model.predict(X_new)\n",
        "\n",
        "  # Adiciona a coluna com os valores previstos ao dataframe copiado\n",
        "  df_copy['queen presence'] = predictionsQueenPresence\n",
        "\n",
        "  # Mostra um exemplo de previsão\n",
        "  #print(df_copy[['hive temp', 'weather humidity', 'weather temp', 'weather pressure',\n",
        "   #               'hive pressure', 'hive humidity', 'queen presence']].head())\n",
        "\n",
        "  return df_copy  # Retorna o DataFrame com as previsões adicionadas\n",
        "\n",
        "def evaluateMetrics(model, estimatorsValues, nameEstimator, X_train, y_train):\n",
        "    # Inicializa dicionário para armazenar as métricas\n",
        "\n",
        "  print(estimatorsValues)\n",
        "  metrics_scores = {\n",
        "      'accuracy': [],\n",
        "      'precision': [],\n",
        "      'recall': [],\n",
        "      'f1': [],\n",
        "      'roc_auc': [],\n",
        "      'balanced_accuracy': []\n",
        "  }\n",
        "\n",
        "  # Loop pelos valores de n_estimators\n",
        "  for n in estimatorsValues:\n",
        "      #print(n)\n",
        "\n",
        "      model.set_params(**{nameEstimator: n}) #desempacota um dic, sintaxe um pouco específica em python\n",
        "\n",
        "      metrics_scores['accuracy'].append(cross_val_score(model, X_train, y_train, cv=5, scoring='accuracy').mean())  #remover o mean()\n",
        "      metrics_scores['precision'].append(cross_val_score(model, X_train, y_train, cv=5, scoring='precision').mean())\n",
        "      metrics_scores['recall'].append(cross_val_score(model, X_train, y_train, cv=5, scoring='recall').mean())\n",
        "      metrics_scores['f1'].append(cross_val_score(model, X_train, y_train, cv=5, scoring='f1').mean())\n",
        "      metrics_scores['roc_auc'].append(cross_val_score(model, X_train, y_train, cv=5, scoring='roc_auc').mean())\n",
        "      metrics_scores['balanced_accuracy'].append(cross_val_score(model, X_train, y_train, cv=5, scoring='balanced_accuracy').mean())\n",
        "\n",
        "  # Cria um DataFrame com os resultados\n",
        "  df_resultados = pd.DataFrame(metrics_scores, index= estimatorsValues)\n",
        "  df_resultados.index.name = nameEstimator\n",
        "\n",
        "  # Exibe os resultados\n",
        "  print(df_resultados)\n",
        "\n"
      ]
    },
    {
      "cell_type": "markdown",
      "source": [],
      "metadata": {
        "id": "81NwTTh9WOEZ"
      }
    },
    {
      "cell_type": "markdown",
      "metadata": {
        "id": "SV1cupQNbEU4"
      },
      "source": [
        "#Aplicando Random Forest\n",
        "\n",
        "- Utilizado 80% dos dados para treino e 20% para teste\n",
        "- Realizado o cross validation para encontrar melhor valor N."
      ]
    },
    {
      "cell_type": "code",
      "execution_count": 4,
      "metadata": {
        "colab": {
          "base_uri": "https://localhost:8080/",
          "height": 885
        },
        "id": "z3Wo0yAhXKuv",
        "outputId": "bd26a5fe-5589-4917-db49-e71c04311f32"
      },
      "outputs": [
        {
          "output_type": "display_data",
          "data": {
            "text/plain": [
              "<Figure size 1000x500 with 1 Axes>"
            ],
            "image/png": "[encoded data removed]"
          },
          "metadata": {}
        },
        {
          "output_type": "stream",
          "name": "stdout",
          "text": [
            "Melhor valor de n_estimators: 130\n",
            "Acurácia do modelo no conjunto de teste: 0.922\n",
            "Modelo salvo em 'random_forest_queen_model.pkl'\n",
            "range(10, 210, 20)\n",
            "              accuracy  precision    recall        f1   roc_auc  \\\n",
            "n_estimators                                                      \n",
            "10            0.906863   0.923714  0.974251  0.948286  0.840808   \n",
            "30            0.908824   0.918588  0.983215  0.949776  0.870189   \n",
            "50            0.910784   0.917952  0.986573  0.950988  0.881459   \n",
            "70            0.913725   0.919010  0.988808  0.952612  0.892071   \n",
            "90            0.910784   0.916259  0.988821  0.951092  0.893857   \n",
            "110           0.912745   0.917205  0.989938  0.952142  0.901616   \n",
            "130           0.914706   0.919132  0.989938  0.953177  0.901884   \n",
            "150           0.913725   0.919033  0.988814  0.952612  0.900526   \n",
            "170           0.913725   0.918146  0.989938  0.952652  0.898627   \n",
            "190           0.913725   0.918146  0.989938  0.952652  0.899862   \n",
            "\n",
            "              balanced_accuracy  \n",
            "n_estimators                     \n",
            "10                     0.701587  \n",
            "30                     0.682069  \n",
            "50                     0.680056  \n",
            "70                     0.685173  \n",
            "90                     0.673333  \n",
            "110                    0.677892  \n",
            "130                    0.685892  \n",
            "150                    0.685330  \n",
            "170                    0.681892  \n",
            "190                    0.681892  \n"
          ]
        }
      ],
      "source": [
        "from sklearn.ensemble import RandomForestClassifier\n",
        "\n",
        "#Avalia diferentes valores de n_estimators, para ver qual seria mais adequado para o modelo\n",
        "n_estimators_values = range(10, 210, 20)\n",
        "accuracy_scores = []\n",
        "\n",
        "for n in n_estimators_values:\n",
        "    model = RandomForestClassifier(n_estimators=n, random_state=42)\n",
        "    cv_scores = cross_val_score(model, X_train, y_train, cv=5)\n",
        "    accuracy_scores.append(cv_scores.mean())\n",
        "\n",
        "plotValues('Número de árvores (n_estimators)','n_estimators x Accuracy Score', n_estimators_values, accuracy_scores, 'linear')\n",
        "\n",
        "#Escolhe o melhor n_estimators baseado na maior acurácia\n",
        "best_n = n_estimators_values[accuracy_scores.index(max(accuracy_scores))]\n",
        "print(f\"Melhor valor de n_estimators: {best_n}\")\n",
        "\n",
        "#Cria o modelo RandomForest com o melhor n_estimators\n",
        "model = RandomForestClassifier(n_estimators=best_n, random_state=42)\n",
        "\n",
        "trainModel(model, 'random_forest_queen_model.pkl')\n",
        "\n",
        "evaluateMetrics(model, n_estimators_values, 'n_estimators', X_train, y_train)\n",
        "\n",
        "#Carrega o modelo para novas previsões\n",
        "#newDataPrediction('random_forest_queen_model.pkl')\n"
      ]
    },
    {
      "cell_type": "code",
      "execution_count": 5,
      "metadata": {
        "colab": {
          "base_uri": "https://localhost:8080/"
        },
        "id": "JzK4b1cMkwlv",
        "outputId": "9d0f78fb-4619-458a-b8f6-2f5044ff7ceb"
      },
      "outputs": [
        {
          "output_type": "execute_result",
          "data": {
            "text/plain": [
              "range(10, 210, 20)"
            ]
          },
          "metadata": {},
          "execution_count": 5
        }
      ],
      "source": [
        "n_estimators_values"
      ]
    },
    {
      "cell_type": "markdown",
      "metadata": {
        "id": "BRkaVi-MbHsm"
      },
      "source": [
        "#Aplicando KNN\n",
        "\n",
        "- Utilizado 80% dos dados para treino e 20% para teste\n",
        "- Realizado o cross validation para encontrar melhor valor de K."
      ]
    },
    {
      "cell_type": "code",
      "execution_count": 6,
      "metadata": {
        "colab": {
          "base_uri": "https://localhost:8080/",
          "height": 1000
        },
        "id": "_hPqtA9DYvy5",
        "outputId": "e85f6dc4-2cf5-42cc-cd64-47e98c412e1e"
      },
      "outputs": [
        {
          "output_type": "display_data",
          "data": {
            "text/plain": [
              "<Figure size 1000x500 with 1 Axes>"
            ],
            "image/png": "[encoded data removed]"
          },
          "metadata": {}
        },
        {
          "output_type": "stream",
          "name": "stdout",
          "text": [
            "Melhor valor de k: 3\n",
            "Acurácia do modelo no conjunto de teste: 0.914\n",
            "Modelo salvo em 'knn_queen_model.pkl'\n",
            "range(1, 31, 2)\n",
            "             accuracy  precision    recall        f1   roc_auc  \\\n",
            "n_neighbors                                                      \n",
            "1            0.878431   0.934606  0.926182  0.930335  0.732937   \n",
            "3            0.904902   0.929111  0.965325  0.946820  0.804388   \n",
            "5            0.891176   0.914337  0.966449  0.939654  0.836189   \n",
            "7            0.893137   0.904325  0.982104  0.941563  0.825925   \n",
            "9            0.888235   0.894758  0.988814  0.939420  0.819802   \n",
            "11           0.882353   0.888559  0.989919  0.936489  0.820525   \n",
            "13           0.883333   0.888688  0.991043  0.937065  0.820387   \n",
            "15           0.884314   0.888017  0.993284  0.937697  0.812688   \n",
            "17           0.877451   0.882601  0.992166  0.934172  0.797974   \n",
            "19           0.874510   0.879206  0.993284  0.932766  0.783802   \n",
            "21           0.872549   0.877474  0.993284  0.931782  0.778422   \n",
            "23           0.874510   0.876964  0.996635  0.932975  0.771369   \n",
            "25           0.873529   0.876104  0.996642  0.932492  0.763214   \n",
            "27           0.876471   0.876471  1.000000  0.934168  0.755192   \n",
            "29           0.876471   0.876471  1.000000  0.934168  0.757977   \n",
            "\n",
            "             balanced_accuracy  \n",
            "n_neighbors                     \n",
            "1                     0.732937  \n",
            "3                     0.720970  \n",
            "5                     0.661840  \n",
            "7                     0.621975  \n",
            "9                     0.581792  \n",
            "11                    0.554498  \n",
            "13                    0.555214  \n",
            "15                    0.552334  \n",
            "17                    0.527775  \n",
            "19                    0.512488  \n",
            "21                    0.504488  \n",
            "23                    0.502164  \n",
            "25                    0.498321  \n",
            "27                    0.500000  \n",
            "29                    0.500000  \n"
          ]
        }
      ],
      "source": [
        "from sklearn.neighbors import KNeighborsClassifier\n",
        "\n",
        "#AVALIA de diferentes valores de k\n",
        "k_values = range(1, 31, 2)  # Testa valores ímpares de k para evitar empates\n",
        "accuracy_scores = []\n",
        "\n",
        "for k in k_values:\n",
        "    model = KNeighborsClassifier(n_neighbors=k)\n",
        "    cv_scores = cross_val_score(model, X_train, y_train, cv=5)\n",
        "    accuracy_scores.append(cv_scores.mean())\n",
        "\n",
        "plotValues('Número de Vizinhos (k)','k vs Accuracy Score', k_values, accuracy_scores, 'linear')\n",
        "\n",
        "\n",
        "# Escolhendo o melhor k baseado na maior acurácia\n",
        "best_k = k_values[accuracy_scores.index(max(accuracy_scores))]\n",
        "print(f\"Melhor valor de k: {best_k}\")\n",
        "\n",
        "# Criando o modelo KNN com o melhor k\n",
        "model = KNeighborsClassifier(n_neighbors=best_k)\n",
        "\n",
        "trainModel(model, 'knn_queen_model.pkl')\n",
        "\n",
        "evaluateMetrics(model, k_values, 'n_neighbors', X_train, y_train)\n",
        "\n",
        "# Carregando o modelo para novas previsões\n",
        "\n",
        "#newDataPrediction('knn_queen_model.pkl')\n"
      ]
    },
    {
      "cell_type": "markdown",
      "metadata": {
        "id": "JAk3kwObbKiu"
      },
      "source": [
        "#SVM MODEL\n",
        "\n",
        "- Utilizado 80% dos dados para treino e 20% para teste\n",
        "- Realizado o cross validation para encontrar melhor valor de C.\n"
      ]
    },
    {
      "cell_type": "code",
      "execution_count": null,
      "metadata": {
        "colab": {
          "base_uri": "https://localhost:8080/",
          "height": 455
        },
        "id": "fgG0Q-BPbLtr",
        "outputId": "085e5c34-ffdd-4491-b66a-52d314735ac8"
      },
      "outputs": [
        {
          "output_type": "display_data",
          "data": {
            "text/plain": [
              "<Figure size 1000x500 with 1 Axes>"
            ],
            "image/png": "[encoded data removed]"
          },
          "metadata": {}
        },
        {
          "output_type": "stream",
          "name": "stdout",
          "text": [
            "Melhor valor de C: 2\n",
            "Acurácia do modelo no conjunto de teste: 0.918\n",
            "Modelo salvo em 'svm_queen_model.pkl'\n",
            "[0.01, 0.1, 0.5, 0.7, 1, 2, 3, 4, 5, 7, 8.5, 10, 100]\n"
          ]
        }
      ],
      "source": [
        "from sklearn.svm import SVC\n",
        "\n",
        "# Avaliação de diferentes valores de C (parâmetro de regularização)\n",
        "c_values = [0.01, 0.1, 0.5, 0.7, 1, 2, 3, 4, 5, 7, 8.5, 10, 100]\n",
        "accuracy_scores = []\n",
        "\n",
        "for c in c_values:\n",
        "    model = SVC(C=c, kernel='rbf', random_state=42, gamma = 0.08)\n",
        "    cv_scores = cross_val_score(model, X_train, y_train, cv=5)\n",
        "    accuracy_scores.append(cv_scores.mean())\n",
        "\n",
        "plotValues('Parâmetro de Regularização (C)','C vs Accuracy Score', c_values, accuracy_scores, 'log')\n",
        "\n",
        "#Escolhe o melhor C baseado na maior acurácia\n",
        "best_c = c_values[accuracy_scores.index(max(accuracy_scores))]\n",
        "print(f\"Melhor valor de C: {best_c}\")\n",
        "\n",
        "#cRIA o modelo SVM com o melhor C\n",
        "model = SVC(C=best_c, kernel='rbf', random_state=42, probability=True, gamma = 0.08) #0.08\n",
        "\n",
        "trainModel(model, 'svm_queen_model.pkl')\n",
        "\n",
        "evaluateMetrics(model, c_values, 'C', X_train, y_train)\n",
        "\n",
        "#Carrega o modelo para novas previsões\n",
        "\n",
        "#newDataPrediction('svm_queen_model.pkl')\n",
        "\n"
      ]
    },
    {
      "cell_type": "markdown",
      "metadata": {
        "id": "kXW8vzRjtI6D"
      },
      "source": [
        "# Modelo do Gradient Boosting\n",
        "\n",
        "- Utilizado 80% dos dados para treino e 20% para teste\n",
        "- Realizado o cross validation para encontrar melhor valor do hiperparâmetro N."
      ]
    },
    {
      "cell_type": "code",
      "execution_count": null,
      "metadata": {
        "id": "QajZPph0bqdV"
      },
      "outputs": [],
      "source": [
        "from sklearn.ensemble import GradientBoostingClassifier\n",
        "\n",
        "# Avaliação de diferentes valores de n_estimators\n",
        "\n",
        "n_estimators_values = range(50, 310, 50)\n",
        "accuracy_scores = []\n",
        "\n",
        "for n in n_estimators_values:\n",
        "    model = GradientBoostingClassifier(n_estimators=n, learning_rate=0.1, random_state=42)\n",
        "    cv_scores = cross_val_score(model, X_train, y_train, cv=5)\n",
        "    accuracy_scores.append(cv_scores.mean())\n",
        "\n",
        "plotValues('Número de estimadores (n_estimators)','n_estimators vs Accuracy Score - Gradient Boosting',\n",
        "           n_estimators_values, accuracy_scores, 'linear')\n",
        "\n",
        "# Escolhendo o melhor n_estimators baseado na maior acurácia\n",
        "best_n = n_estimators_values[accuracy_scores.index(max(accuracy_scores))]\n",
        "print(f\"Melhor valor de n_estimators: {best_n}\")\n",
        "\n",
        "# Criando o modelo Gradient Boosting com o melhor n_estimators\n",
        "model = GradientBoostingClassifier(n_estimators=best_n, learning_rate=0.1, random_state=42)\n",
        "\n",
        "trainModel(model, 'gradient_boosting_queen_model.pkl')\n",
        "\n",
        "evaluateMetrics(model, n_estimators_values, 'n_estimators', X_train, y_train)\n",
        "\n",
        "# Carregando o modelo para novas previsões\n",
        "#newDataPrediction('gradient_boosting_queen_model.pkl')\n",
        "\n"
      ]
    },
    {
      "cell_type": "markdown",
      "metadata": {
        "id": "CynXVReNf7ju"
      },
      "source": [
        "#Treinamento com regressão"
      ]
    },
    {
      "cell_type": "code",
      "execution_count": null,
      "metadata": {
        "id": "aohDXZcvj2zU"
      },
      "outputs": [],
      "source": [
        "df = pd.read_csv(\"all_data_updated_regression.csv\")\n",
        "\n",
        "def plotValuesRegressor(x, name, estimators_values, r2_scores, scale):\n",
        "  plt.figure(figsize=(10, 5))\n",
        "  plt.plot(estimators_values, r2_scores, marker='o', linestyle='dashed', color='g')\n",
        "  plt.xlabel(f'{x}')\n",
        "  plt.ylabel('R² Médio (Cross-Validation)')\n",
        "  plt.title(f'{name}')\n",
        "  plt.xticks(estimators_values)\n",
        "  plt.xscale(f'{scale}')\n",
        "  plt.grid()\n",
        "  plt.show()\n",
        "\n",
        "def trainModelRegressor(model, nameSave):\n",
        "  #Treina o modelo com todos os dados de treino\n",
        "  model.fit(X_train, y_train)\n",
        "\n",
        "  # Avaliando no conjunto de teste\n",
        "  y_pred = model.predict(X_test)\n",
        "  mse = mean_squared_error(y_test, y_pred)\n",
        "  r2 = r2_score(y_test, y_pred)\n",
        "  mae = mean_absolute_error(y_test, y_pred)\n",
        "\n",
        "  print(f\"MSE no teste: {mse:.2f}\")\n",
        "  print(f\"R² no teste: {r2:.2f}\")\n",
        "\n",
        "  #Salva o modelo treinado com o joblib\n",
        "  joblib.dump(model, f'{nameSave}')\n",
        "  print(f\"Modelo salvo em '{nameSave}'\")\n",
        "\n",
        "def predictMissingFeatures(modelNamePressure, modelNameHumidity, input_df):\n",
        "    # Carrega o modelo treinado\n",
        "    loaded_model = joblib.load(modelNamePressure)\n",
        "    loaded_model2 = joblib.load(modelNameHumidity)\n",
        "\n",
        "    # Faz uma cópia do DataFrame original para preservar os dados\n",
        "    df_copy = input_df.copy()\n",
        "\n",
        "    # Define as features que o modelo espera\n",
        "    features = ['hive temp',\n",
        "                'weather temp', 'weather humidity', 'weather pressure']\n",
        "\n",
        "    # Garante que só essas colunas sejam usadas na predição\n",
        "    X_new = df_copy[features]\n",
        "\n",
        "    # Faz as previsões\n",
        "    predictionsPressure = loaded_model.predict(X_new)\n",
        "    predictionsHumidity = loaded_model2.predict(X_new)\n",
        "\n",
        "    # Adiciona a coluna com os valores previstos ao dataframe copiado\n",
        "    df_copy['hive pressure'] = predictionsPressure\n",
        "    df_copy['hive humidity'] = predictionsHumidity\n",
        "\n",
        "    # Mostra um exemplo de previsão\n",
        "    print(df_copy[['hive temp', 'weather humidity', 'weather temp', 'weather pressure',\n",
        "                 'hive pressure', 'hive humidity']].head())\n",
        "\n",
        "    return df_copy  # Retorna o DataFrame com as previsões adicionadas\n"
      ]
    },
    {
      "cell_type": "markdown",
      "metadata": {
        "id": "An0XsXiipqhZ"
      },
      "source": [
        "#Random Forest Regressor"
      ]
    },
    {
      "cell_type": "code",
      "execution_count": null,
      "metadata": {
        "id": "EvVsdvhqYP9U"
      },
      "outputs": [],
      "source": [
        "from sklearn.ensemble import RandomForestRegressor\n",
        "from sklearn.metrics import mean_squared_error, r2_score\n",
        "\n",
        "def RandomForest_Regressor(feature):\n",
        "\n",
        "  # Avaliação com diferentes n_estimators\n",
        "  n_estimators_values = range(10, 210, 20)\n",
        "  r2_scores = []\n",
        "\n",
        "  for n in n_estimators_values:\n",
        "      model = RandomForestRegressor(n_estimators=n, random_state=42)\n",
        "      scores = cross_val_score(model, X_train, y_train, cv=5, scoring='r2')  # Regressão usa R², não acurácia\n",
        "      r2_scores.append(scores.mean())\n",
        "\n",
        "  print(\"\\nResultado para a feature: \", feature)\n",
        "  plotValuesRegressor('Número de Árvores (n_estimators)', 'n_estimators vs R² Score',\n",
        "                      n_estimators_values, r2_scores, 'linear')\n",
        "\n",
        "  # Melhor n_estimators\n",
        "  best_n = n_estimators_values[r2_scores.index(max(r2_scores))]\n",
        "  print(f\"Melhor n_estimators: {best_n}\")\n",
        "\n",
        "  # Treinando o modelo final\n",
        "  model = RandomForestRegressor(n_estimators=best_n, random_state=42)\n",
        "  trainModelRegressor(model, f'random_forest_{feature}.pkl')\n",
        "\n",
        "\n"
      ]
    },
    {
      "cell_type": "markdown",
      "metadata": {
        "id": "U2dNIxLNpu-c"
      },
      "source": [
        "#Usando KNN Regressor"
      ]
    },
    {
      "cell_type": "code",
      "execution_count": null,
      "metadata": {
        "id": "gVqsfBA1n1Ma"
      },
      "outputs": [],
      "source": [
        "from sklearn.neighbors import KNeighborsRegressor\n",
        "from sklearn.metrics import mean_squared_error, r2_score, mean_absolute_error\n",
        "\n",
        "def KNN_Regressor(feature):\n",
        "  # Avaliação com diferentes valores k\n",
        "  k_values = range(1, 21, 2)\n",
        "  r2_scores = []\n",
        "\n",
        "  for k in k_values:\n",
        "      model = KNeighborsRegressor(n_neighbors= k)\n",
        "      scores = cross_val_score(model, X_train, y_train, cv=5, scoring='r2')  # Regressão usa R², não acurácia\n",
        "      r2_scores.append(scores.mean())\n",
        "\n",
        "  print(\"\\nResultado para a feature: \", feature)\n",
        "  plotValuesRegressor('Número de Vizinhos (k)', 'k_estimators vs R² Score',\n",
        "                      k_values, r2_scores, 'linear')\n",
        "\n",
        "  # Escolhendo o melhor k\n",
        "  best_k = k_values[r2_scores.index(max(r2_scores))]\n",
        "  print(f\"Melhor valor de k: {best_k}\")\n",
        "\n",
        "\n",
        "  # Treinando o modelo com o melhor k\n",
        "  model = KNeighborsRegressor(n_neighbors=best_k)\n",
        "  trainModelRegressor(model, f'knn_regressor_{feature}.pkl')\n"
      ]
    },
    {
      "cell_type": "markdown",
      "metadata": {
        "id": "K6IfAohx0BLR"
      },
      "source": [
        "#SVR Regressor"
      ]
    },
    {
      "cell_type": "code",
      "execution_count": null,
      "metadata": {
        "id": "u6bPof2TyLXl"
      },
      "outputs": [],
      "source": [
        "from sklearn.svm import SVR\n",
        "from sklearn.metrics import mean_squared_error, r2_score\n",
        "from sklearn.preprocessing import StandardScaler\n",
        "\n",
        "def SVM_Regressor(feature):\n",
        "\n",
        "  # Padronizando os dados\n",
        "  scaler = StandardScaler()\n",
        "  X_scaled = scaler.fit_transform(X)\n",
        "\n",
        "  # Testando diferentes valores de C\n",
        "  C_values = [ 0.1, 1, 10, 100, 1000, 10000]\n",
        "  r2_scores = []\n",
        "\n",
        "  for C in C_values:\n",
        "      model = SVR(kernel='rbf', C=C)\n",
        "      scores = cross_val_score(model, X_train, y_train, cv=5, scoring='r2')\n",
        "      r2_scores.append(scores.mean())\n",
        "\n",
        "  print(\"\\nResultado para a feature: \", feature)\n",
        "  plotValuesRegressor('Valor de C', 'SVR - C vs R² Score',\n",
        "                      C_values, r2_scores, 'log')\n",
        "\n",
        "  # Melhor C\n",
        "  best_C = C_values[r2_scores.index(max(r2_scores))]\n",
        "  print(f\"Melhor valor de C: {best_C}\")\n",
        "\n",
        "  # Treinamento e avaliação final\n",
        "  model = SVR(kernel='rbf', C=best_C)\n",
        "\n",
        "  trainModelRegressor(model, f'svm_regressor_{feature}.pkl')\n"
      ]
    },
    {
      "cell_type": "markdown",
      "metadata": {
        "id": "b3cjnvWX0LA2"
      },
      "source": [
        "#Gradient Regressor"
      ]
    },
    {
      "cell_type": "code",
      "execution_count": null,
      "metadata": {
        "id": "BmCKlaNp0M_E"
      },
      "outputs": [],
      "source": [
        "from sklearn.ensemble import GradientBoostingRegressor\n",
        "\n",
        "def GradientBoosting_Regressor(feature):\n",
        "\n",
        "  # Testando diferentes valores de n_estimators\n",
        "  n_estimators_values = range(50, 401, 50)\n",
        "  r2_scores = []\n",
        "\n",
        "  for n in n_estimators_values:\n",
        "      model = GradientBoostingRegressor(n_estimators=n, random_state=42)\n",
        "      scores = cross_val_score(model, X_train, y_train, cv=5, scoring='r2')\n",
        "      r2_scores.append(scores.mean())\n",
        "\n",
        "  print(\"\\nResultado para a feature: \", feature)\n",
        "  plotValuesRegressor('n_estimators', 'GB - n_estimators vs R² Score',\n",
        "                      n_estimators_values, r2_scores, 'linear')\n",
        "\n",
        "\n",
        "  # Melhor n_estimators\n",
        "  best_n = n_estimators_values[r2_scores.index(max(r2_scores))]\n",
        "  print(f\"Melhor n_estimators: {best_n}\")\n",
        "\n",
        "  # Treinando e avaliando\n",
        "  model = GradientBoostingRegressor(n_estimators=best_n, random_state=42)\n",
        "\n",
        "  trainModelRegressor(model, f'gradient_regressor_{feature}.pkl')\n"
      ]
    },
    {
      "cell_type": "markdown",
      "metadata": {
        "id": "6P-pxh2pRFYa"
      },
      "source": [
        "#Treinamento dos modelos Regressor"
      ]
    },
    {
      "cell_type": "code",
      "execution_count": null,
      "metadata": {
        "id": "bkBIqeqKv4Pl"
      },
      "outputs": [],
      "source": [
        "# Define as features disponíveis (excluindo a que queremos prever)\n",
        "features = ['hive temp', 'weather temp', 'weather humidity',\n",
        "            'weather pressure']\n",
        "X = df[features]\n",
        "\n",
        "# Target: o que queremos prever\n",
        "y = df['hive pressure']\n",
        "\n",
        "# Divide em treino e teste\n",
        "X_train, X_test, y_train, y_test = train_test_split(X, y, test_size=0.2, random_state=42)\n",
        "\n",
        "RandomForest_Regressor('hive_pressure')\n",
        "KNN_Regressor('hive_pressure')\n",
        "SVM_Regressor('hive_pressure')\n",
        "GradientBoosting_Regressor('hive_pressure')\n",
        "\n",
        "\n",
        "# Define as features disponíveis (excluindo a que queremos prever)\n",
        "features = ['hive temp', 'weather temp', 'weather humidity',\n",
        "            'weather pressure']\n",
        "X = df[features]\n",
        "\n",
        "# Target: o que queremos prever\n",
        "y = df['hive humidity']\n",
        "\n",
        "# Divide em treino e teste\n",
        "X_train, X_test, y_train, y_test = train_test_split(X, y, test_size=0.2, random_state=42)\n",
        "\n",
        "RandomForest_Regressor('hive_humidity')\n",
        "KNN_Regressor('hive_humidity')\n",
        "SVM_Regressor('hive_humidity')\n",
        "GradientBoosting_Regressor('hive_humidity')\n",
        "\n",
        "\n"
      ]
    },
    {
      "cell_type": "markdown",
      "metadata": {
        "id": "uHNPds6bQ_d4"
      },
      "source": [
        "#Prevendo as features faltantes com dados sintéticos"
      ]
    },
    {
      "cell_type": "code",
      "execution_count": null,
      "metadata": {
        "id": "cPsPgg8pQ9m_"
      },
      "outputs": [],
      "source": [
        "input_df = pd.read_csv(\"/content/dadosTeste.csv\")\n",
        "\n",
        "#Será usado o RF, pois ele obteve os melhores resultados\n",
        "\n",
        "novo_df = predictMissingFeatures(\"random_forest_hive_pressure.pkl\",\n",
        "                            \"random_forest_hive_humidity.pkl\", input_df)\n",
        "novo_df.head()\n",
        "\n",
        "novo_df.to_csv('dadosTeste2.csv', index=False)\n"
      ]
    },
    {
      "cell_type": "markdown",
      "metadata": {
        "id": "LcdMh0ODV-6u"
      },
      "source": [
        "#Treinando os novos dados para prever a presença da rainha"
      ]
    },
    {
      "cell_type": "code",
      "execution_count": null,
      "metadata": {
        "id": "ioMYNFl1S4sB"
      },
      "outputs": [],
      "source": [
        "finalQueenSVM = newDataPrediction('svm_queen_model.pkl', novo_df)\n",
        "finalQueenRF = newDataPrediction('random_forest_queen_model.pkl', novo_df)\n",
        "finalQueenGB = newDataPrediction('gradient_boosting_queen_model.pkl', novo_df)\n",
        "finalQueenKNN = newDataPrediction('knn_queen_model.pkl', novo_df)\n",
        "\n",
        "#print(finalQueen[finalQueen['queen presence'] == 0].count())\n",
        "#print(finalQueen[finalQueen['queen presence'] == 1].count())\n",
        "\n",
        "#print(df[df['queen presence'] == 0].count())\n",
        "#print(df[df['queen presence'] == 1].count())\n",
        "\n",
        "#print(\"Predição do Random Forest: \", finalQueenRF['queen presence'].value_counts())\n",
        "print(finalQueenRF['queen presence'].value_counts(normalize=True) * 100)\n",
        "#print(\"Predição do KNN: \", finalQueenKNN['queen presence'].value_counts())\n",
        "print(finalQueenKNN['queen presence'].value_counts(normalize=True) * 100)\n",
        "#print(\"Predição do SVM: \", finalQueenSVM['queen presence'].value_counts())\n",
        "print(finalQueenSVM['queen presence'].value_counts(normalize=True) * 100)\n",
        "#print(\"Predição do Gradient Boosting: \", finalQueenGB['queen presence'].value_counts())\n",
        "print(finalQueenGB['queen presence'].value_counts(normalize=True) * 100)"
      ]
    },
    {
      "cell_type": "markdown",
      "metadata": {
        "id": "5RudKODxukKf"
      },
      "source": [
        "# Resultados dos dados sintéticos - Rainha Presente (1) | Rainha Ausente (0)\n",
        "* Random Forest - 73.92% | 26.08%\n",
        "* KNN - 80.18% | 19.82%\n",
        "* SVM - 99.91% | 0.09%\n",
        "* Gradient Boosting - 82.18% | 17.82%\n"
      ]
    },
    {
      "cell_type": "markdown",
      "metadata": {
        "id": "TQsSwJsIvb9W"
      },
      "source": [
        "#Análise\n",
        "\n",
        "- De forma geral, os resultados apresentaram uma alta frequência na presença da rainha, o que sugere que os dados previstos para as variáveis previstas *hive humidity* e *hive pressure* no modelo de regressão linear são válidos para treinar o modelo de classificação.\n",
        "- O modelo SVM claramente está com problema, pois seu desempenho generalizou em quase 100% dos casos como rainha presente. Sendo assim, o modelo pode estar sofrendo *overfitting* (superajuste) ou *underfitting* (sobreajuste). Creio que isso aconteça porque o conjunto de dados para treinar o modelo de classificação é de apenas 1280 registros. Sendo assim, na separação do hiperplano ele pode acabar encaixando demais nos pontos de treino, levando a um *overfitting* (bom desempenho nos dados de treino, mas ruim nos dados do teste)."
      ]
    },
    {
      "cell_type": "code",
      "execution_count": null,
      "metadata": {
        "id": "ZjtILqxLXKVK"
      },
      "outputs": [],
      "source": [
        "print(df['queen presence'].value_counts(normalize=True) * 100)"
      ]
    },
    {
      "cell_type": "markdown",
      "metadata": {
        "id": "dfmHDryNofKC"
      },
      "source": [
        "#Possíveis causas para os resultados:\n",
        "\n",
        "#Random e Gradient: 93 %\n",
        "\n",
        "- Random Forest e Gradient obtiveram 93% de precisão. Isso pode ter acontecido por serem modelos baseados em árvores, robustos para dados estruturados, conseguindo desta forma uma alta precisão\n",
        "\n",
        "- Gradient Boosting se adapta melhor a padrões complexos e com pouco ruído.\n",
        "\n",
        "- Já o Random Forest consegue generalizar melhor dados bastante ruídosos.\n",
        "\n",
        "# KNN e SVM: 91% e 87% -> 91% (melhorado)\n",
        "\n",
        "- O KNN obteve 91%, enquanto que o SVM 87%.\n",
        "\n",
        "- O KNN funciona a partir da proximidade com os k-vizinhos. Sendo assim, aparentemente a distribuição dos dados tem padrões locais bem definidos, o que permite uma boa classificação por proximidade.\n",
        "\n",
        "- Já o SVM obteve uma pontuação menor. Isto sugere que aparentemente os dados não estão linearmente separáveis da melhor forma com o hiperplano escolhido, fazendo com que o seu desempenho tenha sido inferior.\n",
        "\n",
        "# Temos algumas possibilidades:\n",
        "\n",
        "- Overfitting do KNN e SVM: Dado que eles se baseiam em proximidade e margens, podem estar superajustando a padrões do conjunto de treino e não captando corretamente as variações sazonais, resultando em uma acurácia menor.\n",
        "\n",
        "- Generalização melhor do RF e GB: Como esses modelos usam múltiplas árvores, podem ter captado um padrão global mais robusto, que identifica mudanças sazonais reais.\n",
        "\n",
        "- Sendo assim, pode-se concluir que um modelo de múltiplas árvores se adapta melhor ao dataset, enquanto que algoritmos baseados em proximidade e margens (como KNN e SVM) tendem a ter um desempenho inferior.\n",
        "\n",
        "\n",
        "- Impacto das features escolhidas: **hive_temp**, **hive_humidity**,  **hive_pressure**, **weather_temp**, **weather_humidity**, **weather_pressure**.\n",
        "- Foram escolhidas as features relacionadas a temperatura, umidade relativa do ar e pressão, tanto de dentro da comeia (hive) como do ambiente externo (weather)."
      ]
    },
    {
      "cell_type": "markdown",
      "metadata": {
        "id": "SbFnSXbTlVYP"
      },
      "source": [
        "#Analisando o peso das features em cada modelo"
      ]
    },
    {
      "cell_type": "code",
      "execution_count": null,
      "metadata": {
        "id": "JwwfUZEczuNC"
      },
      "outputs": [],
      "source": [
        "def analisaFeatures(nameArchive, model, color):\n",
        "  #Carregando o modelo Random Forest e gradient boosting\n",
        "  rf_model = joblib.load(f'/content/{nameArchive}')\n",
        "\n",
        "  #Obtendo a importância das features\n",
        "  feature_importances = rf_model.feature_importances_\n",
        "  #Definindo os nomes das features usadas no treinamento\n",
        "  features = ['hive temp', 'hive humidity', 'hive pressure',\n",
        "              'weather temp',\n",
        "              'weather humidity', 'weather pressure',\n",
        "              #'wind speed', 'rain'\n",
        "              ]\n",
        "\n",
        "  importance_df = pd.DataFrame({'Feature': features, 'Importance': feature_importances})\n",
        "  importance_df = importance_df.sort_values(by='Importance', ascending=False)\n",
        "\n",
        "\n",
        "  #Plotando\n",
        "  plt.figure(figsize=(5, 3))\n",
        "  plt.barh(importance_df['Feature'], importance_df['Importance'], color=f'{color}')\n",
        "  plt.xlabel('Importância')\n",
        "  plt.ylabel('Feature')\n",
        "  plt.title(f'Importância das Features - {model} ')\n",
        "  plt.gca().invert_yaxis()  # Inverte a ordem para ficar da maior para a menor\n",
        "  plt.show()\n",
        "\n",
        "  print(f'Peso das variáveis do modelo {model}\\n', importance_df)"
      ]
    },
    {
      "cell_type": "code",
      "execution_count": null,
      "metadata": {
        "id": "rz4GK1iBoiQv"
      },
      "outputs": [],
      "source": [
        "import joblib\n",
        "import pandas as pd\n",
        "import matplotlib.pyplot as plt\n",
        "\n",
        "#Carregando o modelo Random Forest e gradient boosting\n",
        "\n",
        "analisaFeatures('random_forest_queen_model.pkl', 'Random Forest', 'b')\n",
        "analisaFeatures('gradient_boosting_queen_model.pkl', 'Gradient Boosting', 'g')\n"
      ]
    },
    {
      "cell_type": "code",
      "execution_count": null,
      "metadata": {
        "id": "KobiLB8h1lq8"
      },
      "outputs": [],
      "source": [
        "def analisaFeatures_SVM_KNN(nameArchive, nameModel, color):\n",
        "  # Carregando os modelos SVM e KNN\n",
        "  model = joblib.load(f'{nameArchive}')\n",
        "\n",
        "  # Carregando o dataset\n",
        "  df = pd.read_csv('all_data_updated_att.csv')  # Substitua pelo nome correto do arquivo\n",
        "  features = ['hive temp', 'hive humidity', 'hive pressure', 'weather temp',\n",
        "              'weather humidity', 'weather pressure',\n",
        "              #'wind speed', 'rain'\n",
        "              ]\n",
        "  X = df[features]\n",
        "  y = df['queen presence']\n",
        "\n",
        "  # Calculando a importância das features para o SVM\n",
        "  importance = permutation_importance(model, X, y, scoring='accuracy', random_state=42)\n",
        "  feature_importances = importance.importances_mean\n",
        "\n",
        "  # Criando DataFrame para visualização\n",
        "  importance_df = pd.DataFrame({'Feature': features, 'Importance': feature_importances})\n",
        "  importance_df = importance_df.sort_values(by='Importance', ascending=False)\n",
        "\n",
        "  #Plotando\n",
        "  plt.figure(figsize=(5, 3))\n",
        "  plt.barh(importance_df['Feature'], importance_df['Importance'], color=f'{color}')\n",
        "  plt.xlabel('Importância')\n",
        "  plt.ylabel('Feature')\n",
        "  plt.title(f'Importância das Features - {nameModel} ')\n",
        "  plt.gca().invert_yaxis()  # Inverte a ordem para ficar da maior para a menor\n",
        "  plt.show()\n",
        "\n",
        "  print(f'Peso das variáveis do modelo {model}\\n', importance_df)"
      ]
    },
    {
      "cell_type": "code",
      "execution_count": null,
      "metadata": {
        "id": "tTUxkzP0amzB"
      },
      "outputs": [],
      "source": [
        "from sklearn.inspection import permutation_importance\n",
        "import joblib\n",
        "import pandas as pd\n",
        "import matplotlib.pyplot as plt\n",
        "\n",
        "analisaFeatures_SVM_KNN('svm_queen_model.pkl', 'SVM', 'c')\n",
        "analisaFeatures_SVM_KNN('knn_queen_model.pkl', 'KNN', 'r')\n",
        "'''\n",
        "# Carregando os modelos SVM e KNN\n",
        "svm_model = joblib.load('svm_queen_model.pkl')\n",
        "knn_model = joblib.load('knn_queen_model.pkl')\n",
        "\n",
        "# Carregando o dataset\n",
        "df = pd.read_csv('all_data_updated_att.csv')  # Substitua pelo nome correto do arquivo\n",
        "features = ['hive temp', 'hive humidity', 'hive pressure', 'weather temp',\n",
        "            'weather humidity', 'weather pressure', 'wind speed', 'rain']\n",
        "X = df[features]\n",
        "y = df['queen presence']\n",
        "\n",
        "# Calculando a importância das features para o SVM\n",
        "svm_importance = permutation_importance(svm_model, X, y, scoring='accuracy', random_state=42)\n",
        "svm_feature_importances = svm_importance.importances_mean\n",
        "\n",
        "# Calculando a importância das features para o KNN\n",
        "knn_importance = permutation_importance(knn_model, X, y, scoring='accuracy', random_state=42)\n",
        "knn_feature_importances = knn_importance.importances_mean\n",
        "\n",
        "# Criando DataFrame para visualização\n",
        "importance_df_svm = pd.DataFrame({'Feature': features, 'Importance': svm_feature_importances})\n",
        "importance_df_svm = importance_df_svm.sort_values(by='Importance', ascending=False)\n",
        "\n",
        "importance_df_knn = pd.DataFrame({'Feature': features, 'Importance': knn_feature_importances})\n",
        "importance_df_knn = importance_df_knn.sort_values(by='Importance', ascending=False)\n",
        "\n",
        "# Plotando as importâncias das features para SVM e KNN\n",
        "fig, ax = plt.subplots(1, 2, figsize=(14, 6))\n",
        "\n",
        "#Gráfico SVM\n",
        "ax[0].barh(importance_df_svm['Feature'], importance_df_svm['Importance'], color='g')\n",
        "ax[0].set_xlabel('Importância')\n",
        "ax[0].set_ylabel('Feature')\n",
        "ax[0].set_title('Importância das Features - SVM')\n",
        "\n",
        "#Gráfico KNN\n",
        "ax[1].barh(importance_df_knn['Feature'], importance_df_knn['Importance'], color='r')\n",
        "ax[1].set_xlabel('Importância')\n",
        "ax[1].set_ylabel('Feature')\n",
        "ax[1].set_title('Importância das Features - KNN')\n",
        "\n",
        "# Invertendo o eixo Y para exibir a maior importância no topo\n",
        "for axis in ax:\n",
        "    axis.invert_yaxis()\n",
        "\n",
        "plt.tight_layout()\n",
        "plt.show()'''\n"
      ]
    },
    {
      "cell_type": "markdown",
      "metadata": {
        "id": "mYabyjsTC0uP"
      },
      "source": [
        "#Análise:\n",
        "\n",
        "- De forma geral, as variáveis relacionadas a temperatura e umidade relativa do ar tiveram maior impacto nos modelos treinados, sendo a temperatura externa a mais impactante nos modelos do Random Forest Classifier e Gradient Boosting. Nos modelos SVM e KNN, a umidade relativa obteve um maior peso.\n",
        "\n",
        "- A pressão, de forma geral, teve um menor peso em todos os modelos, tanto interna como externa. A velocidade do vento também teve um peso menor.\n",
        "\n",
        "- A presença ou não de chuva teve um peso nulo.\n",
        "\n",
        "- Sendo assim, se quisermos aperfeiçoarmos o modelo teríamos que focar nas features relacionadas a temperatura e umidade relativa do ar, ver se seria possível normalizar ainda mais e retirar possíveis outliers.\n",
        "\n",
        "\n",
        "- Algo estava errado com o modelo SVM, pois os valores do hiperparâmetro C ficavam travados em 87% no treino para diferentes valores C. Creio que o modelo estava se superajustando aos dados e ficando insensível a mudanças. Sendo assim, foi realizado a mudança do parâmetro (ou incluído, não me lembro) gamma que, para pequenos valores, como 0.001, o modelo considera padrões mais gerais, enquanto que, para altos valores, como 10, o modelo considera padrões muito locais (podendo levar a overfitting). Sendo assim, optei pelo valor meio-termo 0.1.\n",
        "\n",
        "- Mais uma observação: agora a tabela do SVM está funcionando, embora não apresente em formato de 100% os pesos. KNN formato peso de +-30% e SVM formato peso de +-45%.\n"
      ]
    },
    {
      "cell_type": "code",
      "execution_count": null,
      "metadata": {
        "id": "EjMLSFafPSOA"
      },
      "outputs": [],
      "source": [
        "'''def trainModel(model, nameSave):\n",
        "  #Treina o modelo com todos os dados de treino\n",
        "  model.fit(X_train, y_train)\n",
        "\n",
        "  #Faz previsões no conjunto de teste\n",
        "  y_pred = model.predict(X_test)\n",
        "\n",
        "  #Avalia o desempenho do modelo\n",
        "  accuracy = accuracy_score(y_test, y_pred)\n",
        "  print(f\"Acurácia do modelo no conjunto de teste: {accuracy:.2f}\")\n",
        "\n",
        "  #Salva o modelo treinado com o joblib\n",
        "  joblib.dump(model, f'{nameSave}')\n",
        "  print(f\"Modelo salvo em '{nameSave}'\")\n",
        "\n",
        "def newDataPrediction(modelName):\n",
        "  #Carrega o modelo para novas previsões\n",
        "  loaded_model = joblib.load(f'{modelName}')\n",
        "\n",
        "  #Supondo um novo conjunto de dados para teste\n",
        "  new_data = pd.DataFrame({\n",
        "      'hive temp': [35.0], 'hive humidity': [30.0], 'hive pressure': [1008.0],\n",
        "      'weather temp': [25.0], 'weather humidity': [50.0], 'weather pressure': [1013.0],\n",
        "      'wind speed': [5.0], 'rain': [0]\n",
        "  })\n",
        "\n",
        "  new_prediction = loaded_model.predict(new_data)\n",
        "  print(f\"Previsão para novos dados de verão (presença da rainha): {new_prediction[0]}\")\n",
        "\n",
        "\n",
        "  #Supondo que esteja no inverno (temperatura bem baixa aliada com uma alta umidade)\n",
        "  #Nete caso a rainha estará ausente\n",
        "\n",
        "  new_data = pd.DataFrame({\n",
        "      'hive temp': [5.0], 'hive humidity': [80.0], 'hive pressure': [1008.0],\n",
        "      'weather temp': [-2.0], 'weather humidity': [90.0], 'weather pressure': [1013.0],\n",
        "      'wind speed': [5.0], 'rain': [0]\n",
        "  })\n",
        "\n",
        "  # Fazendo previsões com novos dados\n",
        "  new_prediction = loaded_model.predict(new_data)\n",
        "  print(f\"Previsão para novos dados de inverno (presença da rainha): {new_prediction[0]}\")\n",
        "'''\n"
      ]
    }
  ],
  "metadata": {
    "colab": {
      "provenance": [],
      "authorship_tag": "ABX9TyMVdkQ/i2aCFuuCPMqFCnuy",
      "include_colab_link": true
    },
    "kernelspec": {
      "display_name": "Python 3",
      "name": "python3"
    },
    "language_info": {
      "name": "python"
    }
  },
  "nbformat": 4,
  "nbformat_minor": 0
}